{
  "nbformat": 4,
  "nbformat_minor": 0,
  "metadata": {
    "colab": {
      "name": "breastCancerML-RandomForest.ipynb",
      "provenance": [],
      "authorship_tag": "ABX9TyNd1Sprn4M59T/I8mGFGbAF",
      "include_colab_link": true
    },
    "kernelspec": {
      "name": "python3",
      "display_name": "Python 3"
    },
    "language_info": {
      "name": "python"
    }
  },
  "cells": [
    {
      "cell_type": "markdown",
      "metadata": {
        "id": "view-in-github",
        "colab_type": "text"
      },
      "source": [
        "<a href=\"https://colab.research.google.com/github/evanlin917/breastCancerML-RandomForest/blob/main/breastCancerML_RandomForest.ipynb\" target=\"_parent\"><img src=\"https://colab.research.google.com/assets/colab-badge.svg\" alt=\"Open In Colab\"/></a>"
      ]
    },
    {
      "cell_type": "code",
      "execution_count": 13,
      "metadata": {
        "colab": {
          "base_uri": "https://localhost:8080/",
          "height": 443
        },
        "id": "24FQSfh1i1hH",
        "outputId": "76a584b4-de72-4113-b3ae-eba7734b4037"
      },
      "outputs": [
        {
          "output_type": "stream",
          "name": "stdout",
          "text": [
            "data dimensions:  (569, 30)\n",
            "prediction:  [1]\n",
            "true value:  1\n",
            "random forest accuracy:  0.9790209790209791\n",
            "best params:  {'n_estimators': 25}\n"
          ]
        },
        {
          "output_type": "display_data",
          "data": {
            "text/plain": [
              "<Figure size 432x288 with 1 Axes>"
            ],
            "image/png": "[encoded data removed]"
          },
          "metadata": {
            "needs_background": "light"
          }
        },
        {
          "output_type": "stream",
          "name": "stdout",
          "text": [
            "['worst radius', 'worst texture', 'worst perimeter', 'worst area', 'worst smoothness', 'worst compactness', 'worst concavity', 'worst concave points', 'worst symmetry', 'worst fractal dimension']\n"
          ]
        },
        {
          "output_type": "execute_result",
          "data": {
            "text/plain": [
              "0.972027972027972"
            ]
          },
          "metadata": {},
          "execution_count": 13
        },
        {
          "output_type": "display_data",
          "data": {
            "text/plain": [
              "<Figure size 432x288 with 0 Axes>"
            ]
          },
          "metadata": {}
        }
      ],
      "source": [
        "import numpy as np\n",
        "import pandas as pd\n",
        "import matplotlib.pyplot as plt\n",
        "import sklearn\n",
        "from sklearn.datasets import load_breast_cancer\n",
        "\n",
        "#setting up the data frame using pandas to house the breast cancer data set\n",
        "cancer_data = load_breast_cancer()\n",
        "df = pd.DataFrame(cancer_data['data'], columns = cancer_data['feature_names'])\n",
        "df['target'] = cancer_data['target']\n",
        "\n",
        "#defining the feature matrix and the target array using numpy\n",
        "x = df[cancer_data.feature_names].values\n",
        "y = df['target'].values\n",
        "print('data dimensions: ', x.shape)\n",
        "\n",
        "#importing the necessary package to creat the random forest model\n",
        "from sklearn.ensemble import RandomForestClassifier\n",
        "\n",
        "#splitting the breast cancer data set into training and test sets\n",
        "from sklearn.model_selection import train_test_split\n",
        "x_train, x_test, y_train, y_test = train_test_split(x, y, random_state = 101)\n",
        "\n",
        "#creating the random forest model\n",
        "randForest = RandomForestClassifier()\n",
        "randForest.fit(x_train, y_train)\n",
        "\n",
        "#utilizing the model created to make a prediction\n",
        "first_row = x_test[0]\n",
        "print(\"prediction: \", randForest.predict([first_row]))\n",
        "print(\"true value: \", y_test[0])\n",
        "\n",
        "#calculating the accuracy of the random forest model\n",
        "print(\"random forest accuracy: \", randForest.score(x_test, y_test))\n",
        "\n",
        "#using grid search to find the optimal choice of parameters to create a random forest model by\n",
        "param_grid = {\n",
        "    'n_estimators': [10, 25, 50, 75, 100],\n",
        "}\n",
        "\n",
        "#creating a new random forest model and applying grid search to it\n",
        "from sklearn.model_selection import GridSearchCV\n",
        "rf = RandomForestClassifier()\n",
        "gs = GridSearchCV(rf, param_grid, cv = 5)\n",
        "gs.fit(x, y)\n",
        "print(\"best params: \", gs.best_params_)\n",
        "\n",
        "#re-defining the grid search towards the creation of an elbow graph\n",
        "n_estimators = list(range(1, 101))\n",
        "param_grid = {\n",
        "    'n_estimators' : n_estimators,\n",
        "}\n",
        "rf = RandomForestClassifier()\n",
        "gs = GridSearchCV(rf, param_grid, cv = 5)\n",
        "gs.fit(x, y)\n",
        "scores = gs.cv_results_['mean_test_score']\n",
        "\n",
        "#visualizing the new results of the grid search\n",
        "plt.plot(n_estimators, scores)\n",
        "plt.xlabel(\"n_estimators\")\n",
        "plt.ylabel(\"accuracy\")\n",
        "plt.xlim(0, 100)\n",
        "plt.ylim(0.9, 1)\n",
        "plt.show()\n",
        "plt.savefig(\"elbow_graph.png\")\n",
        "\n",
        "#re-defining the random forest model created to have the optimal number of decision trees\n",
        "rf = RandomForestClassifier(n_estimators = 10)\n",
        "rf.fit(x, y)\n",
        "\n",
        "#preforming feature importance on a new forest model created with the optimal number of decision trees and applied towards the training data set\n",
        "newRandForest = RandomForestClassifier(n_estimators = 10, random_state = 111)\n",
        "newRandForest.fit(x_train, y_train)\n",
        "ft_imp = pd.Series(newRandForest.feature_importances_, index = cancer_data.feature_names).sort_values(ascending = False) #sorts the values in descending order\n",
        "ft_imp.head(10) #features containing \"worst\" were found to have higher importance\n",
        "\n",
        "#building another random forest model based on the features with higher importance\n",
        "selectedRF = RandomForestClassifier(n_estimators = 10, random_state = 111)\n",
        "selectedRF.fit(x_train, y_train)\n",
        "selectedRF.score(x_test, y_test)\n",
        "\n",
        "#finding features whose name includes \"worst\"\n",
        "worst_cols = [col for col in df.columns if 'worst' in col]\n",
        "print(worst_cols)\n",
        "\n",
        "#storing features with \"worst\" included in the name within a data frame and splitting the data into training and test data sets\n",
        "x_worst = df[worst_cols]\n",
        "selected_x_train, selected_x_test, selected_y_train, selected_y_test = train_test_split(x_worst, y, random_state = 101)\n",
        "\n",
        "#fitting the random forest model of selected features according to the new training and test data sets\n",
        "selectedRF.fit(selected_x_train, selected_y_train)\n",
        "selectedRF.score(selected_x_test, selected_y_test)"
      ]
    }
  ]
}